{
  "cells": [
    {
      "cell_type": "code",
      "execution_count": null,
      "metadata": {
        "colab": {
          "base_uri": "https://localhost:8080/"
        },
        "id": "1mYQEoHJ2Hqd",
        "outputId": "54ceb65b-69c2-493c-9236-f432a61bc5fd"
      },
      "outputs": [
        {
          "output_type": "stream",
          "name": "stdout",
          "text": [
            "Collecting pygltflib\n",
            "  Downloading pygltflib-1.16.5-py3-none-any.whl.metadata (33 kB)\n",
            "Collecting dataclasses-json>=0.0.25 (from pygltflib)\n",
            "  Downloading dataclasses_json-0.6.7-py3-none-any.whl.metadata (25 kB)\n",
            "Collecting deprecated (from pygltflib)\n",
            "  Downloading Deprecated-1.2.18-py2.py3-none-any.whl.metadata (5.7 kB)\n",
            "Collecting marshmallow<4.0.0,>=3.18.0 (from dataclasses-json>=0.0.25->pygltflib)\n",
            "  Downloading marshmallow-3.26.1-py3-none-any.whl.metadata (7.3 kB)\n",
            "Collecting typing-inspect<1,>=0.4.0 (from dataclasses-json>=0.0.25->pygltflib)\n",
            "  Downloading typing_inspect-0.9.0-py3-none-any.whl.metadata (1.5 kB)\n",
            "Requirement already satisfied: wrapt<2,>=1.10 in /usr/local/lib/python3.11/dist-packages (from deprecated->pygltflib) (1.17.2)\n",
            "Requirement already satisfied: packaging>=17.0 in /usr/local/lib/python3.11/dist-packages (from marshmallow<4.0.0,>=3.18.0->dataclasses-json>=0.0.25->pygltflib) (25.0)\n",
            "Collecting mypy-extensions>=0.3.0 (from typing-inspect<1,>=0.4.0->dataclasses-json>=0.0.25->pygltflib)\n",
            "  Downloading mypy_extensions-1.1.0-py3-none-any.whl.metadata (1.1 kB)\n",
            "Requirement already satisfied: typing-extensions>=3.7.4 in /usr/local/lib/python3.11/dist-packages (from typing-inspect<1,>=0.4.0->dataclasses-json>=0.0.25->pygltflib) (4.14.1)\n",
            "Downloading pygltflib-1.16.5-py3-none-any.whl (27 kB)\n",
            "Downloading dataclasses_json-0.6.7-py3-none-any.whl (28 kB)\n",
            "Downloading Deprecated-1.2.18-py2.py3-none-any.whl (10.0 kB)\n",
            "Downloading marshmallow-3.26.1-py3-none-any.whl (50 kB)\n",
            "\u001b[2K   \u001b[90m━━━━━━━━━━━━━━━━━━━━━━━━━━━━━━━━━━━━━━━━\u001b[0m \u001b[32m50.9/50.9 kB\u001b[0m \u001b[31m3.3 MB/s\u001b[0m eta \u001b[36m0:00:00\u001b[0m\n",
            "\u001b[?25hDownloading typing_inspect-0.9.0-py3-none-any.whl (8.8 kB)\n",
            "Downloading mypy_extensions-1.1.0-py3-none-any.whl (5.0 kB)\n",
            "Installing collected packages: mypy-extensions, marshmallow, deprecated, typing-inspect, dataclasses-json, pygltflib\n",
            "Successfully installed dataclasses-json-0.6.7 deprecated-1.2.18 marshmallow-3.26.1 mypy-extensions-1.1.0 pygltflib-1.16.5 typing-inspect-0.9.0\n"
          ]
        }
      ],
      "source": [
        "!pip install fastapi uvicorn nest-asyncio pyngrok -q\n",
        "!pip install pygltflib"
      ]
    },
    {
      "cell_type": "code",
      "execution_count": null,
      "metadata": {
        "id": "sOa5jsWhGgPT"
      },
      "outputs": [],
      "source": [
        "import os\n",
        "os.environ['NGROK_AUTHTOKEN']='2puCttnzpFo3GzXq1FthSd3LGP0_2HPUXbNg7dDp5RAQw2Gpn'"
      ]
    },
    {
      "cell_type": "code",
      "execution_count": 5,
      "metadata": {
        "colab": {
          "base_uri": "https://localhost:8080/"
        },
        "id": "m897nkrTFAjy",
        "outputId": "d7a3cf34-4e93-46a4-de6a-b553c2b91373"
      },
      "outputs": [
        {
          "output_type": "stream",
          "name": "stdout",
          "text": [
            "📦 Copied model to /content/zip/decimated_texture_95.glb\n",
            "✅ Saved texture to /content/zip/decimated_texture_95_texture_0.png\n"
          ]
        }
      ],
      "source": [
        "from pygltflib import GLTF2\n",
        "import os\n",
        "import shutil\n",
        "\n",
        "def extract_textures_and_copy_model(glb_path, output_dir):\n",
        "    os.makedirs(output_dir, exist_ok=True)\n",
        "\n",
        "    gltf = GLTF2().load(glb_path)\n",
        "\n",
        "    glb_filename = os.path.basename(glb_path)\n",
        "    copied_glb_path = os.path.join(output_dir, glb_filename)\n",
        "    shutil.copy2(glb_path, copied_glb_path)\n",
        "    print(f\"📦 Copied model to {copied_glb_path}\")\n",
        "\n",
        "    with open(glb_path, 'rb') as f:\n",
        "        content = f.read()\n",
        "\n",
        "    def get_bin_chunk():\n",
        "        magic = int.from_bytes(content[0:4], 'little')\n",
        "        assert magic == 0x46546C67  # b'glTF'\n",
        "        json_len = int.from_bytes(content[12:16], 'little')\n",
        "        json_type = content[16:20]\n",
        "        assert json_type == b'JSON'\n",
        "\n",
        "        bin_offset = 20 + json_len\n",
        "        bin_len = int.from_bytes(content[bin_offset:bin_offset+4], 'little')\n",
        "        bin_type = content[bin_offset+4:bin_offset+8]\n",
        "        assert bin_type == b'BIN\\x00'\n",
        "\n",
        "        return content[bin_offset+8 : bin_offset+8+bin_len]\n",
        "\n",
        "    bin_chunk = get_bin_chunk()\n",
        "    base_name = os.path.splitext(glb_filename)[0]\n",
        "\n",
        "    for i, image in enumerate(gltf.images):\n",
        "        if image.bufferView is None:\n",
        "            print(f\"Skipping image {i} (no bufferView)\")\n",
        "            continue\n",
        "\n",
        "        buffer_view = gltf.bufferViews[image.bufferView]\n",
        "        offset = buffer_view.byteOffset or 0\n",
        "        length = buffer_view.byteLength\n",
        "\n",
        "        image_data = bin_chunk[offset : offset + length]\n",
        "        ext = 'png' if image.mimeType == 'image/png' else 'jpg'\n",
        "        out_path = os.path.join(output_dir, f'{base_name}_texture_{i}.{ext}')\n",
        "\n",
        "        with open(out_path, 'wb') as f:\n",
        "            f.write(image_data)\n",
        "            print(f\"Saved texture to {out_path}\")\n",
        "\n",
        "extract_textures_and_copy_model(\n",
        "    glb_path=\"/content/decimated_texture_95.glb\",\n",
        "    output_dir=\"/content/zip\"\n",
        ")"
      ]
    },
    {
      "cell_type": "code",
      "execution_count": 6,
      "metadata": {
        "id": "EMZaSEhGFHw8",
        "colab": {
          "base_uri": "https://localhost:8080/"
        },
        "outputId": "5ac21748-49f4-4642-f1d2-c7a5751bace2"
      },
      "outputs": [
        {
          "output_type": "stream",
          "name": "stdout",
          "text": [
            "📦 Zipped folder to: /content/decimated_texture_95.zip\n"
          ]
        }
      ],
      "source": [
        "import zipfile\n",
        "import os\n",
        "\n",
        "def zip_folder(folder_path, zip_path):\n",
        "    with zipfile.ZipFile(zip_path, 'w', zipfile.ZIP_DEFLATED) as zipf:\n",
        "        for root, _, files in os.walk(folder_path):\n",
        "            for file in files:\n",
        "                abs_path = os.path.join(root, file)\n",
        "                rel_path = os.path.relpath(abs_path, folder_path)  # relative path inside zip\n",
        "                zipf.write(abs_path, arcname=rel_path)\n",
        "    print(f\"Zipped folder to: {zip_path}\")\n",
        "\n",
        "zip_folder(\n",
        "    folder_path=\"/content/zip\",\n",
        "    zip_path=\"/content/decimated_texture_95.zip\"\n",
        ")"
      ]
    },
    {
      "cell_type": "code",
      "execution_count": 7,
      "metadata": {
        "id": "x_y6hS_l16gA",
        "colab": {
          "base_uri": "https://localhost:8080/"
        },
        "outputId": "1fb16565-4780-49c7-872c-0de4af688867"
      },
      "outputs": [
        {
          "output_type": "stream",
          "name": "stdout",
          "text": []
        },
        {
          "output_type": "stream",
          "name": "stderr",
          "text": [
            "INFO:     Started server process [599]\n",
            "INFO:     Waiting for application startup.\n",
            "INFO:     Application startup complete.\n",
            "INFO:     Uvicorn running on http://0.0.0.0:8000 (Press CTRL+C to quit)\n"
          ]
        },
        {
          "output_type": "stream",
          "name": "stdout",
          "text": [
            "🌐 Public URL: NgrokTunnel: \"https://10c1c631d4d4.ngrok-free.app\" -> \"http://localhost:8000\"/get-3d-file\n",
            "INFO:     2405:201:4018:afdf:2da4:d8c9:b22c:c71:0 - \"GET / HTTP/1.1\" 200 OK\n",
            "INFO:     2405:201:4018:afdf:2da4:d8c9:b22c:c71:0 - \"GET / HTTP/1.1\" 200 OK\n",
            "INFO:     2405:201:4018:afdf:2da4:d8c9:b22c:c71:0 - \"GET / HTTP/1.1\" 200 OK\n",
            "INFO:     2405:201:4018:afdf:2da4:d8c9:b22c:c71:0 - \"GET /get-3d-file HTTP/1.1\" 200 OK\n",
            "INFO:     2405:201:4018:afdf:2da4:d8c9:b22c:c71:0 - \"GET / HTTP/1.1\" 200 OK\n",
            "INFO:     2405:201:4018:afdf:2da4:d8c9:b22c:c71:0 - \"GET / HTTP/1.1\" 200 OK\n",
            "INFO:     2405:201:4018:afdf:2da4:d8c9:b22c:c71:0 - \"GET /get-3d-file HTTP/1.1\" 200 OK\n",
            "INFO:     2405:201:4018:afdf:2da4:d8c9:b22c:c71:0 - \"GET / HTTP/1.1\" 200 OK\n",
            "INFO:     2405:201:4018:afdf:2da4:d8c9:b22c:c71:0 - \"GET /get-3d-file HTTP/1.1\" 200 OK\n",
            "INFO:     2405:201:4018:afdf:2da4:d8c9:b22c:c71:0 - \"GET / HTTP/1.1\" 200 OK\n",
            "INFO:     2405:201:4018:afdf:2da4:d8c9:b22c:c71:0 - \"GET /get-3d-file HTTP/1.1\" 200 OK\n"
          ]
        },
        {
          "output_type": "stream",
          "name": "stderr",
          "text": [
            "INFO:     Shutting down\n",
            "INFO:     Waiting for application shutdown.\n",
            "INFO:     Application shutdown complete.\n",
            "INFO:     Finished server process [599]\n"
          ]
        }
      ],
      "source": [
        "from fastapi import FastAPI\n",
        "from fastapi.responses import FileResponse\n",
        "import nest_asyncio\n",
        "from pyngrok import ngrok\n",
        "import uvicorn\n",
        "import os\n",
        "from fastapi.responses import PlainTextResponse\n",
        "\n",
        "nest_asyncio.apply()\n",
        "\n",
        "app = FastAPI()\n",
        "PORT = 8000\n",
        "\n",
        "FILE_PATH = \"/content/decimated_texture_95.zip\"\n",
        "\n",
        "@app.get(\"/\")\n",
        "def read_root():\n",
        "    return PlainTextResponse(\"Welcome! FastAPI server is live. Go to /get-3d-file to download the 3D file.\")\n",
        "\n",
        "@app.get(\"/get-3d-file\")\n",
        "def get_3d_file():\n",
        "    if not os.path.exists(FILE_PATH):\n",
        "        return {\"error\": \"3D file not found.\"}\n",
        "    return FileResponse(\n",
        "        path=FILE_PATH,\n",
        "        media_type=\"application/octet-stream\",\n",
        "        filename=os.path.basename(FILE_PATH)\n",
        "    )\n",
        "\n",
        "if __name__ == \"__main__\":\n",
        "    public_url = ngrok.connect(PORT)\n",
        "    print(f\"Public URL: {public_url}/get-3d-file\")\n",
        "\n",
        "    uvicorn.run(app, host=\"0.0.0.0\", port=PORT)\n"
      ]
    },
    {
      "cell_type": "code",
      "execution_count": null,
      "metadata": {
        "id": "66bXHrdsFn15"
      },
      "outputs": [],
      "source": []
    }
  ],
  "metadata": {
    "colab": {
      "provenance": []
    },
    "kernelspec": {
      "display_name": "Python 3",
      "name": "python3"
    },
    "language_info": {
      "name": "python"
    }
  },
  "nbformat": 4,
  "nbformat_minor": 0
}